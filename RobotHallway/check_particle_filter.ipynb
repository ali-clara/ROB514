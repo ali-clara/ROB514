{
 "cells": [
  {
   "cell_type": "code",
   "execution_count": null,
   "metadata": {
    "deletable": false,
    "editable": false
   },
   "outputs": [],
   "source": [
    "# Initialize Otter\n",
    "import otter\n",
    "grader = otter.Notebook(\"check_particle_filter.ipynb\")"
   ]
  },
  {
   "cell_type": "markdown",
   "metadata": {},
   "source": [
    "# Particle filter \n",
    "\n",
    "This Jupyter notebook file imports (and tests) all of the code needed to do the particle filter assignment. Note that the actual code is in the .py files in this directory.\n",
    "\n",
    "You should only have to edit particle_filter.py - you did all the \"simulator\" code in the previous two assignments.\n",
    "\n",
    "Note that, although we use both sensors in this assignment, we'll only use one at a time, and update the particle distribution (importance sampling) before calling a calculate_weights method again.\n",
    "\n",
    "Slides for this assignment: https://docs.google.com/presentation/d/1GVCAWUSUhJiHP6VBi-HusDyZmunQG1mnVlopLhtRGLs/edit?usp=sharing"
   ]
  },
  {
   "cell_type": "code",
   "execution_count": 1,
   "metadata": {},
   "outputs": [],
   "source": [
    "import sys; sys.path.insert(0, '.')\n",
    "import numpy as np\n",
    "# import pdfkit\n",
    "import matplotlib.pyplot as plt\n",
    "\n",
    "# These commands will force JN to actually re-load the external file when you re-execute the import command\n",
    "%load_ext autoreload\n",
    "%autoreload 2"
   ]
  },
  {
   "cell_type": "code",
   "execution_count": 2,
   "metadata": {},
   "outputs": [],
   "source": [
    "from particle_filter import ParticleFilter, test_particle_filter_syntax\n",
    "from world_ground_truth import WorldGroundTruth\n",
    "from robot_sensors import RobotSensors\n",
    "from robot_ground_truth import RobotGroundTruth"
   ]
  },
  {
   "cell_type": "code",
   "execution_count": 3,
   "metadata": {
    "tags": []
   },
   "outputs": [],
   "source": [
    "# Declare variables\n",
    "n_doors = 2\n",
    "n_bins = 10\n",
    "n_samples = 100\n",
    "world_ground_truth = WorldGroundTruth()\n",
    "world_ground_truth.random_door_placement(n_doors, n_bins)\n",
    "robot_ground_truth = RobotGroundTruth()\n",
    "robot_sensor = RobotSensors()\n",
    "particle_filter = ParticleFilter()"
   ]
  },
  {
   "cell_type": "code",
   "execution_count": 4,
   "metadata": {
    "tags": []
   },
   "outputs": [],
   "source": [
    "# Syntax check 1, reset probabilities\n",
    "particle_filter.reset_particles(n_samples)"
   ]
  },
  {
   "cell_type": "code",
   "execution_count": 5,
   "metadata": {
    "tags": []
   },
   "outputs": [],
   "source": [
    "# Syntax check 2, update move\n",
    "particle_filter.update_particles_move_continuous(robot_ground_truth, 0.1)"
   ]
  },
  {
   "cell_type": "code",
   "execution_count": 6,
   "metadata": {
    "tags": []
   },
   "outputs": [],
   "source": [
    "# Syntax checks 3 and 4 - the two different sensor readings\n",
    "particle_filter.calculate_weights_door_sensor_reading(world_ground_truth, robot_sensor, True)\n",
    "if np.isclose(np.max(particle_filter.weights), np.min(particle_filter.weights)):\n",
    "    print(f\"Possible error: The weights should not all be the same - one\")\n",
    "    \n",
    "particle_filter.calculate_weights_distance_wall(robot_sensor, 0.1)\n",
    "if np.isclose(np.max(particle_filter.weights), np.min(particle_filter.weights)):\n",
    "    print(f\"Possible error: The weights should not all be the same - two\")"
   ]
  },
  {
   "cell_type": "code",
   "execution_count": 7,
   "metadata": {
    "tags": []
   },
   "outputs": [],
   "source": [
    "# Syntax check 5 - importance sampling\n",
    "particle_filter.resample_particles()\n",
    "if not np.isclose(np.max(particle_filter.weights), np.min(particle_filter.weights)):\n",
    "    print(f\"Possible error: The weights should be set back to all the same\")\n",
    "if np.unique(particle_filter.particles, return_counts=True) == n_samples:\n",
    "    print(f\"Possible error: There probably should be duplicate particles {np.unique(particle_filter.particles, return_counts=True)} {n_samples}\")"
   ]
  },
  {
   "cell_type": "code",
   "execution_count": 8,
   "metadata": {
    "tags": []
   },
   "outputs": [],
   "source": [
    "# Syntax checks 6 and 7 - the two full updates\n",
    "# particle_filter.reset_particles(n_samples)\n",
    "particle_filter.one_full_update_door(world_ground_truth, robot_ground_truth, robot_sensor, u=0.1, z=True)\n",
    "particle_filter.one_full_update_distance(robot_ground_truth, robot_sensor, u=0.1, z=0.6)"
   ]
  },
  {
   "cell_type": "code",
   "execution_count": 9,
   "metadata": {
    "tags": []
   },
   "outputs": [
    {
     "name": "stdout",
     "output_type": "stream",
     "text": [
      "Testing particle filter (syntax)\n",
      "Should be approximately equal, seq: ['Door']\n",
      "[ True  True  True  True  True  True  True  True  True  True  True  True\n",
      "  True  True  True  True  True  True  True  True]\n",
      "Your h: [0.045 0.046 0.043 0.069 0.066 0.023 0.048 0.035 0.061 0.076 0.071 0.011\n",
      " 0.053 0.076 0.014 0.043 0.058 0.033 0.065 0.064]\n",
      "Approximate h: [0.045 0.046 0.043 0.069 0.066 0.023 0.048 0.035 0.061 0.076 0.071 0.011\n",
      " 0.053 0.076 0.014 0.043 0.058 0.033 0.065 0.064]\n",
      "\n",
      "Should be approximately equal, seq: ['Dist']\n",
      "[ True  True  True  True  True  True  True  True  True  True  True  True\n",
      "  True  True  True  True  True  True  True  True]\n",
      "Your h: [0.    0.    0.    0.001 0.003 0.012 0.033 0.046 0.109 0.172 0.224 0.168\n",
      " 0.137 0.055 0.031 0.007 0.002 0.    0.    0.   ]\n",
      "Approximate h: [0.    0.    0.    0.001 0.003 0.012 0.033 0.046 0.109 0.172 0.224 0.168\n",
      " 0.137 0.055 0.031 0.007 0.002 0.    0.    0.   ]\n",
      "\n",
      "Should be approximately equal, seq: ['Move']\n",
      "[False False  True False False False False False False False  True False\n",
      " False False False False  True  True False False]\n",
      "Your h: [0.013 0.013 0.032 0.052 0.062 0.054 0.052 0.045 0.067 0.064 0.051 0.048\n",
      " 0.071 0.053 0.054 0.063 0.052 0.05  0.05  0.054]\n",
      "Approximate h: [0.003 0.019 0.032 0.042 0.052 0.049 0.047 0.051 0.046 0.057 0.048 0.058\n",
      " 0.054 0.061 0.043 0.035 0.056 0.052 0.072 0.123]\n",
      "\n",
      "Should be approximately equal, seq: ['Move_dist']\n",
      "[ True  True  True  True False False False False False False False False\n",
      " False False False False False False False False]\n",
      "Your h: [0.    0.    0.    0.    0.002 0.005 0.018 0.038 0.085 0.108 0.209 0.195\n",
      " 0.136 0.125 0.049 0.017 0.01  0.003 0.    0.   ]\n",
      "Approximate h: [0.    0.    0.    0.    0.    0.    0.    0.005 0.01  0.024 0.088 0.135\n",
      " 0.238 0.186 0.133 0.093 0.047 0.027 0.01  0.004]\n",
      "\n",
      "Should be approximately equal, seq: ['Move_door']\n",
      "[False False False False False False False False False False False False\n",
      " False False False False False False False False]\n",
      "Your h: [0.017 0.02  0.039 0.046 0.09  0.013 0.083 0.054 0.062 0.068 0.053 0.014\n",
      " 0.056 0.077 0.01  0.06  0.052 0.064 0.047 0.075]\n",
      "Approximate h: [0.001 0.015 0.013 0.026 0.02  0.159 0.016 0.031 0.025 0.022 0.074 0.168\n",
      " 0.03  0.021 0.197 0.044 0.018 0.024 0.036 0.06 ]\n",
      "\n",
      "Should be approximately equal, seq: ['Move_door', 'Move_dist', 'Move_door']\n",
      "[ True False False False False  True False False False False False False\n",
      " False False False False False False  True  True]\n",
      "Your h: [0.    0.    0.    0.    0.    0.023 0.003 0.005 0.021 0.035 0.066 0.428\n",
      " 0.081 0.081 0.232 0.02  0.004 0.001 0.    0.   ]\n",
      "Approximate h: [0.    0.002 0.006 0.016 0.06  0.021 0.15  0.181 0.185 0.178 0.13  0.016\n",
      " 0.027 0.026 0.    0.002 0.    0.    0.    0.   ]\n",
      "\n",
      "Passed syntax check\n"
     ]
    },
    {
     "data": {
      "text/plain": [
       "True"
      ]
     },
     "execution_count": 9,
     "metadata": {},
     "output_type": "execute_result"
    }
   ],
   "source": [
    "test_particle_filter_syntax(b_print=True)"
   ]
  },
  {
   "cell_type": "code",
   "execution_count": 10,
   "metadata": {
    "deletable": false,
    "editable": false
   },
   "outputs": [
    {
     "ename": "NameError",
     "evalue": "name 'grader' is not defined",
     "output_type": "error",
     "traceback": [
      "\u001b[1;31m---------------------------------------------------------------------------\u001b[0m",
      "\u001b[1;31mNameError\u001b[0m                                 Traceback (most recent call last)",
      "\u001b[1;32m~\\AppData\\Local\\Temp/ipykernel_15328/2819809286.py\u001b[0m in \u001b[0;36m<module>\u001b[1;34m\u001b[0m\n\u001b[1;32m----> 1\u001b[1;33m \u001b[0mgrader\u001b[0m\u001b[1;33m.\u001b[0m\u001b[0mcheck\u001b[0m\u001b[1;33m(\u001b[0m\u001b[1;34m\"syntax_check\"\u001b[0m\u001b[1;33m)\u001b[0m\u001b[1;33m\u001b[0m\u001b[1;33m\u001b[0m\u001b[0m\n\u001b[0m",
      "\u001b[1;31mNameError\u001b[0m: name 'grader' is not defined"
     ]
    }
   ],
   "source": [
    "grader.check(\"syntax_check\")"
   ]
  },
  {
   "cell_type": "markdown",
   "metadata": {},
   "source": [
    "<!-- BEGIN QUESTION -->\n",
    "\n",
    "## Door sensor\n",
    "Did you calculate the door sensor correctly?\n",
    "\n",
    "Tall particles in door if sensor is True, otherwise, short particles in doors."
   ]
  },
  {
   "cell_type": "code",
   "execution_count": 11,
   "metadata": {
    "tags": []
   },
   "outputs": [
    {
     "data": {
      "text/plain": [
       "(-0.052362500000000006, 1.0501125, -0.037500000000000006, 0.7875)"
      ]
     },
     "execution_count": 11,
     "metadata": {},
     "output_type": "execute_result"
    },
    {
     "data": {
      "image/png": "[encoded data removed]",
      "text/plain": [
       "<Figure size 1152x288 with 2 Axes>"
      ]
     },
     "metadata": {
      "needs_background": "light"
     },
     "output_type": "display_data"
    }
   ],
   "source": [
    "fig, axs = plt.subplots(1, 2, figsize=(16, 4))\n",
    "\n",
    "n_doors = 2\n",
    "n_bins = 10\n",
    "n_particles = 100\n",
    "np.random.seed(2)\n",
    "\n",
    "# Initialize with values that are NOT the default ones\n",
    "world_ground_truth.random_door_placement(n_doors, n_bins)\n",
    "\n",
    "# Two cases - sensor returned True or False\n",
    "axs[0].set_title(\"Sensor True\")\n",
    "particle_filter.reset_particles(n_particles)\n",
    "particle_filter.calculate_weights_door_sensor_reading(world_ground_truth, robot_sensor, True)\n",
    "particle_filter.plot_particles_with_weights(axs[0], world_ground_truth, robot_ground_truth)\n",
    "axs[0].axis('equal')\n",
    "\n",
    "axs[1].set_title(\"Sensor False\")\n",
    "particle_filter.reset_particles(n_particles)\n",
    "particle_filter.calculate_weights_door_sensor_reading(world_ground_truth, robot_sensor, False)\n",
    "particle_filter.plot_particles_with_weights(axs[1], world_ground_truth, robot_ground_truth)\n",
    "axs[1].axis('equal')\n"
   ]
  },
  {
   "cell_type": "markdown",
   "metadata": {},
   "source": [
    "<!-- END QUESTION -->\n",
    "\n",
    "<!-- BEGIN QUESTION -->\n",
    "\n",
    "## Distance sensor - is your distance sensor setting correct values?\n",
    "Should show a Gaussian centered at the distance input"
   ]
  },
  {
   "cell_type": "code",
   "execution_count": 12,
   "metadata": {
    "tags": []
   },
   "outputs": [
    {
     "data": {
      "text/plain": [
       "(-0.052362500000000006, 1.0501125, -0.037500000000000006, 0.7875)"
      ]
     },
     "execution_count": 12,
     "metadata": {},
     "output_type": "execute_result"
    },
    {
     "data": {
      "image/png": "[encoded data removed]",
      "text/plain": [
       "<Figure size 1152x288 with 2 Axes>"
      ]
     },
     "metadata": {
      "needs_background": "light"
     },
     "output_type": "display_data"
    }
   ],
   "source": [
    "fig, axs = plt.subplots(1, 2, figsize=(16, 4))\n",
    "\n",
    "# Two cases - sensor returned 0.25 or 0.6\n",
    "axs[0].set_title(\"0.25 off left wall\")\n",
    "robot_ground_truth.robot_loc = 0.25\n",
    "particle_filter.reset_particles(n_particles)\n",
    "particle_filter.calculate_weights_distance_wall(robot_sensor, 0.25)\n",
    "particle_filter.plot_particles_with_weights(axs[0], world_ground_truth, robot_ground_truth)\n",
    "axs[0].axis('equal')\n",
    "\n",
    "axs[1].set_title(\"0.6 location\")\n",
    "robot_ground_truth.robot_loc = 0.6\n",
    "particle_filter.reset_particles(n_particles)\n",
    "particle_filter.calculate_weights_distance_wall(robot_sensor, 0.6)\n",
    "particle_filter.plot_particles_with_weights(axs[1], world_ground_truth, robot_ground_truth)\n",
    "axs[1].axis('equal')"
   ]
  },
  {
   "cell_type": "markdown",
   "metadata": {},
   "source": [
    "<!-- END QUESTION -->\n",
    "\n",
    "<!-- BEGIN QUESTION -->\n",
    "\n",
    "## Importance weighting/resampling\n",
    "Do you resample the particles correctly? More particles in \"bump\""
   ]
  },
  {
   "cell_type": "code",
   "execution_count": 13,
   "metadata": {
    "tags": []
   },
   "outputs": [
    {
     "data": {
      "text/plain": [
       "(-0.052362500000000006, 1.0501125, -0.037500000000000006, 0.7875)"
      ]
     },
     "execution_count": 13,
     "metadata": {},
     "output_type": "execute_result"
    },
    {
     "data": {
      "image/png": "[encoded data removed]",
      "text/plain": [
       "<Figure size 1152x288 with 2 Axes>"
      ]
     },
     "metadata": {
      "needs_background": "light"
     },
     "output_type": "display_data"
    }
   ],
   "source": [
    "fig, axs = plt.subplots(1, 2, figsize=(16, 4))\n",
    "\n",
    "n_particles = 50\n",
    "# Sensor reading first, to calculate weights\n",
    "axs[0].set_title(\"0.25 off left wall\")\n",
    "robot_ground_truth.robot_loc = 0.25\n",
    "particle_filter.reset_particles(n_particles)\n",
    "particle_filter.calculate_weights_distance_wall(robot_sensor, 0.25)\n",
    "particle_filter.plot_particles_with_weights(axs[0], world_ground_truth, robot_ground_truth)\n",
    "axs[0].axis('equal')\n",
    "\n",
    "# Now resample\n",
    "axs[1].set_title(\"Resampled\")\n",
    "particle_filter.resample_particles()\n",
    "particle_filter.plot_particles_with_weights(axs[1], world_ground_truth, robot_ground_truth)\n",
    "axs[1].axis('equal')"
   ]
  },
  {
   "cell_type": "markdown",
   "metadata": {},
   "source": [
    "<!-- END QUESTION -->\n",
    "\n",
    "<!-- BEGIN QUESTION -->\n",
    "\n",
    "## Robot moves\n",
    "Do the particles shift? All should pile up on the left (or right) side, depending on the move direction.\n",
    "Also should spread out over time"
   ]
  },
  {
   "cell_type": "code",
   "execution_count": 14,
   "metadata": {
    "tags": []
   },
   "outputs": [
    {
     "data": {
      "text/plain": [
       "(-0.052362500000000006, 1.0501125, -0.037500000000000006, 0.7875)"
      ]
     },
     "execution_count": 14,
     "metadata": {},
     "output_type": "execute_result"
    },
    {
     "data": {
      "image/png": "[encoded data removed]",
      "text/plain": [
       "<Figure size 1728x288 with 4 Axes>"
      ]
     },
     "metadata": {
      "needs_background": "light"
     },
     "output_type": "display_data"
    }
   ],
   "source": [
    "fig, axs = plt.subplots(1, 4, figsize=(24, 4))\n",
    "\n",
    "n_particles = 75\n",
    "\n",
    "# Move to the left\n",
    "axs[0].set_title(\"Move left\")\n",
    "robot_ground_truth.robot_loc = 0.4\n",
    "particle_filter.reset_particles(n_particles)\n",
    "particle_filter.update_particles_move_continuous(robot_ground_truth, -0.1)\n",
    "particle_filter.plot_particles_with_weights(axs[0], world_ground_truth, robot_ground_truth)\n",
    "axs[0].axis('equal')\n",
    "\n",
    "axs[1].set_title(\"Move right\")\n",
    "robot_ground_truth.robot_loc = 0.6\n",
    "particle_filter.reset_particles(n_particles)\n",
    "particle_filter.update_particles_move_continuous(robot_ground_truth, 0.1)\n",
    "particle_filter.plot_particles_with_weights(axs[1], world_ground_truth, robot_ground_truth)\n",
    "axs[1].axis('equal')\n",
    "\n",
    "axs[2].set_title(\"Door reading\")\n",
    "robot_ground_truth.robot_loc = 0.5\n",
    "particle_filter.reset_particles(n_particles)\n",
    "# Pile up particles in front of doors\n",
    "for _ in range(0, 2):\n",
    "    particle_filter.calculate_weights_door_sensor_reading(world_ground_truth, robot_sensor, True)\n",
    "    particle_filter.resample_particles()\n",
    "particle_filter.plot_particles_with_weights(axs[2], world_ground_truth, robot_ground_truth)\n",
    "axs[2].axis('equal')\n",
    "\n",
    "# \"Don't\" move for 2 iterations - but should still spread particles out\n",
    "axs[3].set_title(\"Spread out\")\n",
    "for _ in range(0, 2):\n",
    "    particle_filter.update_particles_move_continuous(robot_ground_truth, 0.0)\n",
    "    \n",
    "particle_filter.plot_particles_with_weights(axs[3], world_ground_truth, robot_ground_truth)\n",
    "axs[3].axis('equal')\n"
   ]
  },
  {
   "cell_type": "markdown",
   "metadata": {},
   "source": [
    "<!-- END QUESTION -->\n",
    "\n",
    "## Do one full loop\n",
    "Do a move, sensor loop a few times"
   ]
  },
  {
   "cell_type": "code",
   "execution_count": 15,
   "metadata": {
    "tags": []
   },
   "outputs": [
    {
     "data": {
      "image/png": "[encoded data removed]",
      "text/plain": [
       "<Figure size 1728x288 with 4 Axes>"
      ]
     },
     "metadata": {
      "needs_background": "light"
     },
     "output_type": "display_data"
    }
   ],
   "source": [
    "fig, axs = plt.subplots(1, 4, figsize=(24, 4))\n",
    "\n",
    "n_particles = 75\n",
    "\n",
    "# Moves followed by door, then distance, then door, then distance reading\n",
    "moves = [-0.1, -0.05, 0.1, 0.0]\n",
    "\n",
    "particle_filter.reset_particles(n_particles)\n",
    "robot_ground_truth.robot_loc = 0.5\n",
    "\n",
    "np.random.seed(3)\n",
    "\n",
    "for i, u in enumerate(moves):\n",
    "    robot_ground_truth.move_continuous(u)\n",
    "    if i % 2:\n",
    "        saw_door = robot_sensor.query_door(robot_ground_truth, world_ground_truth)\n",
    "        particle_filter.one_full_update_door(world_ground_truth, robot_ground_truth, robot_sensor, u, saw_door)\n",
    "        axs[i].set_title(f\"Move {u}, door {saw_door}\")\n",
    "    else:\n",
    "        dist = robot_sensor.query_distance_to_wall(robot_ground_truth)\n",
    "        particle_filter.one_full_update_distance(robot_ground_truth, robot_sensor, u, dist)\n",
    "        axs[i].set_title(f\"Move {u}, distance {dist:0.2f}\")\n",
    "    \n",
    "    axs[i].axis('equal')\n",
    "    particle_filter.plot_particles_with_weights(axs[i], world_ground_truth, robot_ground_truth)\n"
   ]
  },
  {
   "cell_type": "markdown",
   "metadata": {},
   "source": [
    "## Hours and collaborators\n",
    "Required for every assignment - fill out before you hand-in.\n",
    "\n",
    "Listing names and websites helps you to document who you worked with and what internet help you received in the case of any plagiarism issues. You should list names of anyone (in class or not) who has substantially helped you with an assignment - or anyone you have *helped*. You do not need to list TAs.\n",
    "\n",
    "Listing hours helps us track if the assignments are too long."
   ]
  },
  {
   "cell_type": "code",
   "execution_count": null,
   "metadata": {
    "tags": []
   },
   "outputs": [],
   "source": [
    "\n",
    "# List of names (creates a set)\n",
    "worked_with_names = {\"Marcus Rosette\"}\n",
    "# List of URLS (creates a set)\n",
    "websites = {\"n/a\"}\n",
    "# Approximate number of hours, including lab/in-class time\n",
    "hours = 4\n",
    "\n",
    "# for all row, column in all_indices_from_where\n",
    "#.   if this is the column for wrist torque \n",
    "#.      print(f\"Row: {r}, Time step: {c // n_time_steps} Successful y/n: {pick_data[r, -1] == 1}, value: {pick_data[r, c]}\")"
   ]
  },
  {
   "cell_type": "code",
   "execution_count": null,
   "metadata": {
    "deletable": false,
    "editable": false
   },
   "outputs": [],
   "source": [
    "grader.check(\"hours_collaborators\")"
   ]
  },
  {
   "cell_type": "code",
   "execution_count": null,
   "metadata": {},
   "outputs": [],
   "source": []
  },
  {
   "cell_type": "markdown",
   "metadata": {
    "deletable": false,
    "editable": false
   },
   "source": [
    "---\n",
    "\n",
    "To double-check your work, the cell below will rerun all of the autograder tests."
   ]
  },
  {
   "cell_type": "code",
   "execution_count": null,
   "metadata": {
    "deletable": false,
    "editable": false
   },
   "outputs": [],
   "source": [
    "grader.check_all()"
   ]
  },
  {
   "cell_type": "markdown",
   "metadata": {
    "deletable": false,
    "editable": false
   },
   "source": [
    "## Submission\n",
    "\n",
    "Make sure you have run all cells in your notebook in order before running the cell below, so that all images/graphs appear in the output. The cell below will generate a zip file for you to submit. **Please save before exporting!**\n",
    "\n",
    "Submit through gradescope, particle filter. Include just this .ipynb file and ALL of the .py files"
   ]
  },
  {
   "cell_type": "code",
   "execution_count": null,
   "metadata": {
    "deletable": false,
    "editable": false
   },
   "outputs": [],
   "source": [
    "# Save your notebook first, then run this cell to export your submission.\n",
    "grader.export()"
   ]
  },
  {
   "cell_type": "markdown",
   "metadata": {},
   "source": [
    " "
   ]
  }
 ],
 "metadata": {
  "kernelspec": {
   "display_name": "Python 3.9.7 64-bit",
   "language": "python",
   "name": "python3"
  },
  "language_info": {
   "codemirror_mode": {
    "name": "ipython",
    "version": 3
   },
   "file_extension": ".py",
   "mimetype": "text/x-python",
   "name": "python",
   "nbconvert_exporter": "python",
   "pygments_lexer": "ipython3",
   "version": "3.9.7"
  },
  "otter": {
   "tests": {
    "hours_collaborators": {
     "name": "hours_collaborators",
     "points": 1,
     "suites": [
      {
       "cases": [
        {
         "code": ">>> assert(not \"not filled out\" in worked_with_names)\n",
         "hidden": false,
         "locked": false
        },
        {
         "code": ">>> assert(not \"not filled out\" in websites)\n",
         "hidden": false,
         "locked": false
        },
        {
         "code": ">>> assert(hours > 0)\n",
         "hidden": false,
         "locked": false
        }
       ],
       "scored": true,
       "setup": "",
       "teardown": "",
       "type": "doctest"
      }
     ]
    },
    "syntax_check": {
     "name": "syntax_check",
     "points": 4,
     "suites": [
      {
       "cases": [
        {
         "code": ">>> assert(test_particle_filter_syntax(b_print=False))\n",
         "hidden": false,
         "locked": false
        }
       ],
       "scored": true,
       "setup": "",
       "teardown": "",
       "type": "doctest"
      }
     ]
    }
   }
  },
  "vscode": {
   "interpreter": {
    "hash": "3a2a9cf4ab00a4dfb8ab541c52a98bb3a399ae9c1ff912de1725d8c349ee38a7"
   }
  }
 },
 "nbformat": 4,
 "nbformat_minor": 2
}
