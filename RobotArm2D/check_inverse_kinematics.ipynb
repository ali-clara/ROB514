{
 "cells": [
  {
   "cell_type": "code",
   "execution_count": null,
   "metadata": {
    "deletable": false,
    "editable": false
   },
   "outputs": [],
   "source": [
    "# Initialize Otter\n",
    "import otter\n",
    "grader = otter.Notebook(\"check_inverse_kinematics.ipynb\")"
   ]
  },
  {
   "cell_type": "markdown",
   "metadata": {},
   "source": [
    "# Arm inverse kinematics\n",
    "\n",
    "Do IK twice, once with gradient descent, once with a Jacobian.\n",
    "All the code is in arm_ik_gradient.py and arm_ik_jacobian.py\n",
    "\n",
    "Slides: https://docs.google.com/presentation/d/1dowamZVQqyLDZ-k-vWRV0rrQ-4dMVWhSCy25BV8a6bU/edit?usp=sharing"
   ]
  },
  {
   "cell_type": "code",
   "execution_count": 1,
   "metadata": {},
   "outputs": [],
   "source": [
    "# Doing the imports for you\n",
    "import numpy as np\n",
    "import json as json\n",
    "import matplotlib.pyplot as plt"
   ]
  },
  {
   "cell_type": "code",
   "execution_count": 2,
   "metadata": {},
   "outputs": [],
   "source": [
    "import sys; \n",
    "sys.path.insert(0, '.')\n",
    "sys.path.insert(0, '../Skills')\n",
    "\n",
    "# These commands will force JN to actually re-load the external file when you re-execute the import command\n",
    "%load_ext autoreload\n",
    "%autoreload 2"
   ]
  },
  {
   "cell_type": "code",
   "execution_count": 3,
   "metadata": {},
   "outputs": [],
   "source": [
    "import arm_forward_kinematics as afk\n",
    "import arm_ik_gradient as ik_gradient"
   ]
  },
  {
   "cell_type": "markdown",
   "metadata": {},
   "source": [
    "## Gradient calculation, using distance of grasp point to target\n",
    "There are tests for each step of this/each function to make sure that you're getting the correct (or same as the example code) values. "
   ]
  },
  {
   "cell_type": "code",
   "execution_count": 4,
   "metadata": {
    "tags": []
   },
   "outputs": [],
   "source": [
    "# Create the arm geometry\n",
    "base_size_param = (1.0, 0.5)\n",
    "link_sizes_param = [(0.5, 0.25), (0.3, 0.1), (0.2, 0.05)]\n",
    "palm_width_param = 0.1\n",
    "finger_size_param = (0.075, 0.025)\n",
    "\n",
    "arm_geometry = afk.create_arm_geometry(base_size_param, link_sizes_param, palm_width_param, finger_size_param)\n",
    "\n",
    "# Set some initial angles\n",
    "angles_check = [0.0, np.pi/4, 0, [-np.pi/4.0, np.pi/4.0, -np.pi/4.0]]\n",
    "afk.set_angles_of_arm_geometry(arm_geometry, angles_check)"
   ]
  },
  {
   "cell_type": "code",
   "execution_count": 5,
   "metadata": {
    "tags": []
   },
   "outputs": [
    {
     "name": "stdout",
     "output_type": "stream",
     "text": [
      "Success: got same gripper location\n"
     ]
    }
   ],
   "source": [
    "# First check - do you get the same answer for the gripper location?\n",
    "gripper_loc = afk.get_gripper_location(arm_geometry)\n",
    "exp_gripper_loc = (-0.3536, 1.4098)\n",
    "if not np.isclose(gripper_loc[0], exp_gripper_loc[0], atol=0.01) or not np.isclose(gripper_loc[1], exp_gripper_loc[1], atol=0.01):\n",
    "    print(f\"Gripper loc, expected {exp_gripper_loc}, got {gripper_loc}\")\n",
    "else:\n",
    "    print(f\"Success: got same gripper location\")\n"
   ]
  },
  {
   "cell_type": "code",
   "execution_count": 6,
   "metadata": {
    "tags": []
   },
   "outputs": [],
   "source": [
    "# Set the target for the example here\n",
    "target = (0.5, 1.5)"
   ]
  },
  {
   "cell_type": "code",
   "execution_count": 7,
   "metadata": {
    "tags": []
   },
   "outputs": [
    {
     "data": {
      "text/plain": [
       "Text(0.5, 1.0, 'Before gradient descent')"
      ]
     },
     "execution_count": 7,
     "metadata": {},
     "output_type": "execute_result"
    },
    {
     "data": {
      "image/png": "[encoded data removed]",
      "text/plain": [
       "<Figure size 648x360 with 1 Axes>"
      ]
     },
     "metadata": {
      "needs_background": "light"
     },
     "output_type": "display_data"
    }
   ],
   "source": [
    "# Plot so you can see what the arm angles produce and where the target is\n",
    "fig, axs = plt.subplots(1, 1, figsize=(9, 5))\n",
    "\n",
    "# Actually get the matrices\n",
    "matrices = afk.get_matrices_all_links(arm_geometry)\n",
    "afk.plot_complete_arm(axs, arm_geometry, matrices)\n",
    "\n",
    "# Plot target too\n",
    "axs.plot(target[0], target[1], '+r')\n",
    "axs.set_title(\"Before gradient descent\")"
   ]
  },
  {
   "cell_type": "code",
   "execution_count": 8,
   "metadata": {
    "tags": []
   },
   "outputs": [
    {
     "name": "stdout",
     "output_type": "stream",
     "text": [
      "Passed vec check\n"
     ]
    }
   ],
   "source": [
    "# First check - vector to goal - see pic above, should point from green + to red one\n",
    "vec = ik_gradient.vector_to_goal(arm_geometry, target)\n",
    "if not vec.shape[0] == 2:\n",
    "    print(f\"Expected a 2x1 vector, got {vec.shape}\")\n",
    "elif not np.isclose(vec[0], 0.8535, atol=0.01) or not np.isclose(vec[1], 0.09019, atol=0.01):\n",
    "    print(f\"Expected (0.853, 0.090), got {vec}\")\n",
    "else:\n",
    "    print(\"Passed vec check\")"
   ]
  },
  {
   "cell_type": "code",
   "execution_count": 9,
   "metadata": {
    "tags": []
   },
   "outputs": [
    {
     "name": "stdout",
     "output_type": "stream",
     "text": [
      "Passed distance check, dist 0.858\n"
     ]
    }
   ],
   "source": [
    "# Second check - distance to goal, should be length of vector\n",
    "dist_to_arm = ik_gradient.distance_to_goal(arm_geometry, target)\n",
    "if not np.isclose(dist_to_arm, 0.858, atol=0.01):\n",
    "    print(f\"Expected 0.858, got {dist_to_arm:0.3}\")\n",
    "else:\n",
    "    print(f\"Passed distance check, dist {dist_to_arm:0.3}\")"
   ]
  },
  {
   "cell_type": "code",
   "execution_count": 10,
   "metadata": {
    "tags": []
   },
   "outputs": [
    {
     "name": "stdout",
     "output_type": "stream",
     "text": [
      "Passed gradient check\n"
     ]
    }
   ],
   "source": [
    "# Third check - the gradient. \n",
    "grad = ik_gradient.calculate_gradient(arm_geometry, angles_check, target)\n",
    "exp_grad = [0.9419, 0.4447, 0.2114, 0.0559]\n",
    "if not len(grad) == 4:\n",
    "    print(f\"Expected a 4x1 list, got {grad}\")\n",
    "elif not np.all(np.isclose(grad, exp_grad, atol=0.01)):\n",
    "    print(f\"Expected {exp_grad} got {grad}\")\n",
    "else:\n",
    "    print(\"Passed gradient check\")"
   ]
  },
  {
   "cell_type": "code",
   "execution_count": null,
   "metadata": {
    "deletable": false,
    "editable": false
   },
   "outputs": [],
   "source": [
    "grader.check(\"gradient_calculation\")"
   ]
  },
  {
   "cell_type": "markdown",
   "metadata": {},
   "source": [
    "## Gradient descent\n",
    "This checks the actual gradient descent algorithm - does the gripper get closer to the goal at each time step? Does it eventually reach the goal?\n",
    "\n",
    "Checks gradient_descent in arm_ik_gradient.py"
   ]
  },
  {
   "cell_type": "markdown",
   "metadata": {},
   "source": [
    "_Type your answer here, replacing this text._"
   ]
  },
  {
   "cell_type": "code",
   "execution_count": 13,
   "metadata": {
    "tags": []
   },
   "outputs": [],
   "source": [
    "# Main check - do we get out the new angles? Note, this assumes that you haven't changed up the step size\n",
    "b_succ, angles_new, count = ik_gradient.gradient_descent(arm_geometry, angles_check, target, b_one_step=True)\n",
    "ang_exp = [-0.942, 0.341, -0.211, [-0.841, np.pi/4.0, -np.pi/4.0]]\n",
    "if not len(angles_new) == 4:\n",
    "    print(\"one\")\n",
    "    print(f\"Expected {ang_exp}, got {angles_new}\")\n",
    "for a1, a2 in zip(angles_new, ang_exp):\n",
    "    if not np.all(np.isclose(a1, a2, atol=0.01)):\n",
    "        print(\"two\")\n",
    "        print(f\"Expected {a1} got {a2}\")\n",
    "if not b_succ:\n",
    "    print(\"three\")\n",
    "    print(f\"Expected successful/improvement, got none\")"
   ]
  },
  {
   "cell_type": "code",
   "execution_count": 14,
   "metadata": {
    "tags": []
   },
   "outputs": [
    {
     "name": "stdout",
     "output_type": "stream",
     "text": [
      "Starting distance 0.8583057840546942\n",
      "Passed iteration check 0, dist 0.42642932204481365\n",
      "Passed iteration check 1, dist 0.32455226080392124\n",
      "Passed iteration check 2, dist 0.10734186287280825\n"
     ]
    }
   ],
   "source": [
    "# This will actually change the arm geometry based on the new angles\n",
    "afk.set_angles_of_arm_geometry(arm_geometry, angles_check)\n",
    "last_dist = ik_gradient.distance_to_goal(arm_geometry, target)\n",
    "\n",
    "# For first round of for loop\n",
    "angles_new = angles_check\n",
    "print(f\"Starting distance {last_dist}\")\n",
    "for i in range(0, 3):\n",
    "    b_succ, angles_new, count = ik_gradient.gradient_descent(arm_geometry, angles_new, target, b_one_step=True)\n",
    "    afk.set_angles_of_arm_geometry(arm_geometry, angles_new)\n",
    "    dist = ik_gradient.distance_to_goal(arm_geometry, target)\n",
    "    if not b_succ:\n",
    "        print(f\"Expected successful/improvement after each iteration, got none\")\n",
    "    elif not dist < last_dist:\n",
    "        print(f\"Expected improvement, got none, dist {dist}\")\n",
    "    else:\n",
    "        print(f\"Passed iteration check {i}, dist {dist}\")\n",
    "    last_dist = dist\n",
    "\n",
    "if not np.isclose(dist, 0.1, atol=0.01):\n",
    "    print(f\"Expected distance to be close to 0.1, got {dist}, count {count}\")\n"
   ]
  },
  {
   "cell_type": "code",
   "execution_count": 15,
   "metadata": {
    "tags": []
   },
   "outputs": [
    {
     "name": "stdout",
     "output_type": "stream",
     "text": [
      "Passed full descent 0.063\n"
     ]
    }
   ],
   "source": [
    "# Do gradient descent until gradient descent bottoms out\n",
    "b_succ, angles_new, count = ik_gradient.gradient_descent(arm_geometry, angles_check, target, b_one_step=False)\n",
    "\n",
    "# Set the new angles\n",
    "afk.set_angles_of_arm_geometry(arm_geometry, angles_new)\n",
    "dist = ik_gradient.distance_to_goal(arm_geometry, target)\n",
    "\n",
    "if not b_succ:\n",
    "    print(f\"Expected successful/improvement, got none\")\n",
    "elif not np.isclose(dist, 0.063, atol=0.01):\n",
    "    print(f\"Expected distance to be close to 0.063, got {dist}, count {count}\")\n",
    "    \n",
    "else:\n",
    "    print(f\"Passed full descent {dist:0.2}\")"
   ]
  },
  {
   "cell_type": "code",
   "execution_count": 16,
   "metadata": {
    "tags": []
   },
   "outputs": [
    {
     "data": {
      "text/plain": [
       "Text(0.5, 1.0, 'After gradient descent count 1001 dist 0.0633')"
      ]
     },
     "execution_count": 16,
     "metadata": {},
     "output_type": "execute_result"
    },
    {
     "data": {
      "image/png": "[encoded data removed]",
      "text/plain": [
       "<Figure size 864x432 with 2 Axes>"
      ]
     },
     "metadata": {
      "needs_background": "light"
     },
     "output_type": "display_data"
    }
   ],
   "source": [
    "# And plot the old and the new\n",
    "# Plot so you can see what it should look like\n",
    "fig, axs = plt.subplots(1, 2, figsize=(12, 6))\n",
    "\n",
    "for i, a in enumerate([angles_check, angles_new]):\n",
    "    # Actually get the matrices\n",
    "    afk.set_angles_of_arm_geometry(arm_geometry, a)\n",
    "    matrices = afk.get_matrices_all_links(arm_geometry)\n",
    "    afk.plot_complete_arm(axs[i], arm_geometry, matrices)\n",
    "\n",
    "    # Plot target too\n",
    "    axs[i].plot(target[0], target[1], '+r')\n",
    "\n",
    "axs[0].set_title(\"Before gradient descent\")\n",
    "axs[1].set_title(f\"After gradient descent count {count} dist {dist:0.3}\")"
   ]
  },
  {
   "cell_type": "code",
   "execution_count": null,
   "metadata": {
    "deletable": false,
    "editable": false
   },
   "outputs": [],
   "source": [
    "grader.check(\"gradient_descent\")"
   ]
  },
  {
   "cell_type": "markdown",
   "metadata": {},
   "source": [
    "# IK using a jacobian\n",
    "You can do either the Jacobian numerically or from matrices (extra credit) or both. \n",
    "The routines you need to edit are in arm_ik_jacobian.py"
   ]
  },
  {
   "cell_type": "markdown",
   "metadata": {},
   "source": [
    "## Practice Jacobian\n",
    "This is a 1d, stand-alone Jacobian. "
   ]
  },
  {
   "cell_type": "code",
   "execution_count": 17,
   "metadata": {
    "tags": []
   },
   "outputs": [],
   "source": [
    "import arm_ik_jacobian as ik_jacobian"
   ]
  },
  {
   "cell_type": "code",
   "execution_count": 18,
   "metadata": {
    "tags": []
   },
   "outputs": [
    {
     "name": "stdout",
     "output_type": "stream",
     "text": [
      "Checking practice jacobian\n",
      "res [ 0.01907622 -0.09410596]\n",
      "Delta angle [-0.03200665], should be -0.32\n",
      "New point and moved point should be the close to the same\n",
      "Old point: [2.940199733523725, 0.5960079923851836]\n",
      "New pt: [2.9301997335237253, 0.49600799238518367]\n",
      "Moved pt: [2.9577668188511104, 0.5016128440374932]\n",
      "Passed practice jacobian test\n"
     ]
    }
   ],
   "source": [
    "# Do this first to make sure you know how to calculate a Jacobian for 1 link\n",
    "#  There's additional prints that print out the angle, moved point, etc.\n",
    "print(\"Checking practice jacobian\")\n",
    "ang = ik_jacobian.practice_jacobian()\n",
    "exp_ang = -0.032\n",
    "if not np.isclose(ang, exp_ang, atol=0.01):\n",
    "    print(f\"Practice jacobian: Expected {exp_ang}, got {ang}\")\n",
    "else:\n",
    "    print(f\"Passed practice jacobian test\")"
   ]
  },
  {
   "cell_type": "code",
   "execution_count": null,
   "metadata": {
    "deletable": false,
    "editable": false
   },
   "outputs": [],
   "source": [
    "grader.check(\"practice_jacobian\")"
   ]
  },
  {
   "cell_type": "markdown",
   "metadata": {},
   "source": [
    "## Calculate jacobian\n",
    "You need to do one of calculate_jacobian_numerically or calculate_jacobian (from matrices). Doing both will win you prizes and acclaim (and extra credit)"
   ]
  },
  {
   "cell_type": "markdown",
   "metadata": {},
   "source": [
    "_Type your answer here, replacing this text._"
   ]
  },
  {
   "cell_type": "code",
   "execution_count": 19,
   "metadata": {
    "tags": []
   },
   "outputs": [],
   "source": [
    "# Create the arm geometry\n",
    "base_size_param = (1.0, 0.5)\n",
    "link_sizes_param = [(0.5, 0.25), (0.3, 0.1), (0.2, 0.05)]\n",
    "palm_width_param = 0.1\n",
    "finger_size_param = (0.075, 0.025)\n",
    "\n",
    "arm_geometry = afk.create_arm_geometry(base_size_param, link_sizes_param, palm_width_param, finger_size_param)\n",
    "\n",
    "# Set some initial angles\n",
    "angles_check = [0.0, np.pi/4, 0, [-np.pi/4.0, np.pi/4.0, -np.pi/4.0]]\n",
    "afk.set_angles_of_arm_geometry(arm_geometry, angles_check)\n",
    "\n",
    "# The location to reach for\n",
    "target = (0.5, 1.5)"
   ]
  },
  {
   "cell_type": "code",
   "execution_count": null,
   "metadata": {
    "tags": []
   },
   "outputs": [],
   "source": [
    "### Numerical calculation check"
   ]
  },
  {
   "cell_type": "code",
   "execution_count": 20,
   "metadata": {
    "tags": []
   },
   "outputs": [
    {
     "name": "stdout",
     "output_type": "stream",
     "text": [
      "Passed numerical jacob test\n"
     ]
    }
   ],
   "source": [
    "# First check - calculating the jacobian (2 x 4 matrix) calculated numerically\n",
    "jacob_numerical = ik_jacobian.calculate_jacobian_numerically(arm_geometry, angles_check)\n",
    "exp_jacob = np.array([[-0.9098, -0.4098, -0.1977, -0.0562], [-0.3535, -0.3535, -0.1414, 0.0]])\n",
    "if not np.all(np.isclose(jacob_numerical, exp_jacob, atol=0.01)):\n",
    "    print(f\"Expected jacob\\n{exp_jacob}, \\ngot{jacob_numerical}\\n{np.isclose(jacob_numerical, exp_jacob, atol=0.01)}\")\n",
    "else:\n",
    "    print(\"Passed numerical jacob test\")"
   ]
  },
  {
   "cell_type": "code",
   "execution_count": null,
   "metadata": {
    "tags": []
   },
   "outputs": [],
   "source": [
    "### Matrix calculation check"
   ]
  },
  {
   "cell_type": "code",
   "execution_count": 21,
   "metadata": {
    "tags": []
   },
   "outputs": [
    {
     "ename": "NameError",
     "evalue": "name 'angles_links' is not defined",
     "output_type": "error",
     "traceback": [
      "\u001b[1;31m---------------------------------------------------------------------------\u001b[0m",
      "\u001b[1;31mNameError\u001b[0m                                 Traceback (most recent call last)",
      "\u001b[1;32m~\\AppData\\Local\\Temp/ipykernel_4812/2608267820.py\u001b[0m in \u001b[0;36m<module>\u001b[1;34m\u001b[0m\n\u001b[0;32m      1\u001b[0m \u001b[1;31m# Second check (optional) - calculating the jacobian using matrices (2 x 4 matrix)\u001b[0m\u001b[1;33m\u001b[0m\u001b[1;33m\u001b[0m\u001b[0m\n\u001b[1;32m----> 2\u001b[1;33m \u001b[0mjacob_matrix\u001b[0m \u001b[1;33m=\u001b[0m \u001b[0mik_jacobian\u001b[0m\u001b[1;33m.\u001b[0m\u001b[0mcalculate_jacobian\u001b[0m\u001b[1;33m(\u001b[0m\u001b[0marm_geometry\u001b[0m\u001b[1;33m,\u001b[0m \u001b[0mangles_check\u001b[0m\u001b[1;33m)\u001b[0m\u001b[1;33m\u001b[0m\u001b[1;33m\u001b[0m\u001b[0m\n\u001b[0m\u001b[0;32m      3\u001b[0m \u001b[1;32mif\u001b[0m \u001b[1;32mnot\u001b[0m \u001b[0mnp\u001b[0m\u001b[1;33m.\u001b[0m\u001b[0mall\u001b[0m\u001b[1;33m(\u001b[0m\u001b[0mnp\u001b[0m\u001b[1;33m.\u001b[0m\u001b[0misclose\u001b[0m\u001b[1;33m(\u001b[0m\u001b[0mjacob_matrix\u001b[0m\u001b[1;33m,\u001b[0m \u001b[0mexp_jacob\u001b[0m\u001b[1;33m,\u001b[0m \u001b[0matol\u001b[0m\u001b[1;33m=\u001b[0m\u001b[1;36m0.01\u001b[0m\u001b[1;33m)\u001b[0m\u001b[1;33m)\u001b[0m\u001b[1;33m:\u001b[0m\u001b[1;33m\u001b[0m\u001b[1;33m\u001b[0m\u001b[0m\n\u001b[0;32m      4\u001b[0m     \u001b[0mprint\u001b[0m\u001b[1;33m(\u001b[0m\u001b[1;34mf\"Expected jacob\\n{exp_jacob}, got\\n{jacob_matrix}\\n{np.isclose(jacob_matrix, exp_jacob, atol=0.01)}\"\u001b[0m\u001b[1;33m)\u001b[0m\u001b[1;33m\u001b[0m\u001b[1;33m\u001b[0m\u001b[0m\n\u001b[0;32m      5\u001b[0m \u001b[1;32melse\u001b[0m\u001b[1;33m:\u001b[0m\u001b[1;33m\u001b[0m\u001b[1;33m\u001b[0m\u001b[0m\n",
      "\u001b[1;32mc:\\Users\\alicl\\Documents\\GitHub\\ROB514\\RobotArm2D\\.\\arm_ik_jacobian.py\u001b[0m in \u001b[0;36mcalculate_jacobian\u001b[1;34m(arm, angles)\u001b[0m\n\u001b[0;32m    161\u001b[0m \u001b[1;33m\u001b[0m\u001b[0m\n\u001b[0;32m    162\u001b[0m     \u001b[1;31m# We rotated the base so the arm points up - so the last link angle needs to have that rotation added\u001b[0m\u001b[1;33m\u001b[0m\u001b[1;33m\u001b[0m\u001b[0m\n\u001b[1;32m--> 163\u001b[1;33m     \u001b[0mangles_links\u001b[0m\u001b[1;33m[\u001b[0m\u001b[1;33m-\u001b[0m\u001b[1;36m1\u001b[0m\u001b[1;33m]\u001b[0m \u001b[1;33m+=\u001b[0m \u001b[0mnp\u001b[0m\u001b[1;33m.\u001b[0m\u001b[0mpi\u001b[0m \u001b[1;33m/\u001b[0m \u001b[1;36m2.0\u001b[0m\u001b[1;33m\u001b[0m\u001b[1;33m\u001b[0m\u001b[0m\n\u001b[0m\u001b[0;32m    164\u001b[0m \u001b[1;33m\u001b[0m\u001b[0m\n\u001b[0;32m    165\u001b[0m     \u001b[1;31m# TODO: Now work backwards, calculating R @ T @ mat_accum\u001b[0m\u001b[1;33m\u001b[0m\u001b[1;33m\u001b[0m\u001b[0m\n",
      "\u001b[1;31mNameError\u001b[0m: name 'angles_links' is not defined"
     ]
    }
   ],
   "source": [
    "# Second check (optional) - calculating the jacobian using matrices (2 x 4 matrix)\n",
    "jacob_matrix = ik_jacobian.calculate_jacobian(arm_geometry, angles_check)\n",
    "if not np.all(np.isclose(jacob_matrix, exp_jacob, atol=0.01)):\n",
    "    print(f\"Expected jacob\\n{exp_jacob}, got\\n{jacob_matrix}\\n{np.isclose(jacob_matrix, exp_jacob, atol=0.01)}\")\n",
    "else:\n",
    "    print(\"Passed matrix jacob test\")"
   ]
  },
  {
   "cell_type": "code",
   "execution_count": null,
   "metadata": {
    "deletable": false,
    "editable": false
   },
   "outputs": [],
   "source": [
    "grader.check(\"jacobian\")"
   ]
  },
  {
   "cell_type": "markdown",
   "metadata": {},
   "source": [
    "## Do the pseudo inverse\n",
    "Do the pseudo inverse (solve_jacobian) to solve for a set of angle changes given a set of x,y changes"
   ]
  },
  {
   "cell_type": "code",
   "execution_count": 27,
   "metadata": {
    "tags": []
   },
   "outputs": [
    {
     "name": "stdout",
     "output_type": "stream",
     "text": [
      "Passed solve jacobian test\n"
     ]
    }
   ],
   "source": [
    "# Third check - pseudo inverse 1 x 5 matrix of angle changes needed to get the desired x,y change\n",
    "delta_angles = ik_jacobian.solve_jacobian(np.array(exp_jacob), np.array([0.5, -0.2]))\n",
    "exp_delta_angles = np.array([-1.456, 1.819,  0.506, -0.368])\n",
    "if not np.all(np.isclose(delta_angles, exp_delta_angles, atol=0.01)):\n",
    "    print(f\"Expected delta angles\\n{exp_delta_angles}, got\\n{delta_angles}\")\n",
    "else:\n",
    "    print(\"Passed solve jacobian test\")"
   ]
  },
  {
   "cell_type": "code",
   "execution_count": null,
   "metadata": {
    "deletable": false,
    "editable": false
   },
   "outputs": [],
   "source": [
    "grader.check(\"solve_jacobian\")"
   ]
  },
  {
   "cell_type": "markdown",
   "metadata": {},
   "source": [
    "## Use the Jacobian to move the gripper closer to the goal\n",
    "Edit the code in jacobian_descent (which is very similar to gradient_descent). The checks *should* work with either the numerical or matrix jacobian."
   ]
  },
  {
   "cell_type": "markdown",
   "metadata": {},
   "source": [
    "_Type your answer here, replacing this text._"
   ]
  },
  {
   "cell_type": "code",
   "execution_count": 34,
   "metadata": {
    "tags": []
   },
   "outputs": [],
   "source": [
    "# Main check - do we get out the new angles? Note, this assumes that you haven't changed up the step size\n",
    "b_succ, angles_new, count = ik_jacobian.jacobian_follow_path(arm_geometry, angles_check, target, b_one_step=True)\n",
    "ang_exp = [-0.0864, 0.8506, 0.01585, [-0.8024, np.pi/4.0, -np.pi/4.0]]\n",
    "if not len(angles_new) == 4:\n",
    "    print(\"one\")\n",
    "    print(f\"Expected {ang_exp}, got {angles_new}\")\n",
    "for a1, a2 in zip(ang_exp, angles_new):\n",
    "    if not np.all(np.isclose(a1, a2, atol=0.01)):\n",
    "        print(\"two\")\n",
    "        print(f\"Expected {a1} got {a2}\")\n",
    "if not b_succ:\n",
    "    print(\"three\")\n",
    "    print(f\"Expected successful/improvement, got none\")"
   ]
  },
  {
   "cell_type": "code",
   "execution_count": 31,
   "metadata": {
    "tags": []
   },
   "outputs": [
    {
     "name": "stdout",
     "output_type": "stream",
     "text": [
      "[-0.08641718  0.06521591  0.01585113 -0.01705872] [-0.08641718  0.06521591  0.01585113 -0.01705872]\n",
      "[-0.0781052   0.04791035  0.01232742 -0.01278435] [-0.0781052   0.04791035  0.01232742 -0.01278435]\n",
      "[-0.07069346  0.03297663  0.00841929 -0.00985707] [-0.07069346  0.03297663  0.00841929 -0.00985707]\n",
      "[-0.06271413  0.01771391  0.00373019 -0.00743033] [-0.06271413  0.01771391  0.00373019 -0.00743033]\n",
      "[-0.05317399  0.0007826  -0.00202349 -0.00513692] [-0.05317399  0.0007826  -0.00202349 -0.00513692]\n",
      "[-0.04032404 -0.02011302 -0.00935268 -0.00238879] [-0.04032404 -0.02011302 -0.00935268 -0.00238879]\n",
      "[-0.02196346 -0.04808527 -0.01835398  0.00205631] [-0.02196346 -0.04808527 -0.01835398  0.00205631]\n",
      "[-0.00160183 -0.07939336 -0.02574469  0.00917457] [-0.00160183 -0.07939336 -0.02574469  0.00917457]\n",
      "[ 0.01751682 -0.11123354 -0.02938782  0.0194624 ] [ 0.01751682 -0.11123354 -0.02938782  0.0194624 ]\n",
      "[ 0.04154644 -0.15592126 -0.02803863  0.03926973] [ 0.04154644 -0.15592126 -0.02803863  0.03926973]\n",
      "[ 0.08166632 -0.24537315 -0.00247065  0.09970426] [ 0.08166632 -0.24537315 -0.00247065  0.09970426]\n",
      "[ 0.07750021 -0.37447364  0.25711893  0.41835257] [ 0.07750021 -0.37447364  0.25711893  0.41835257]\n",
      "[-0.63420946  1.21182548 -0.28241569  0.65686023] [-0.63420946  1.21182548 -0.28241569  0.65686023]\n",
      "[ 0.36248159 -0.56089257 -0.38653432 -0.02048885] [ 0.36248159 -0.56089257 -0.38653432 -0.02048885]\n",
      "[-0.40854806  0.49026881  0.50233789  0.18192106] [-0.40854806  0.49026881  0.50233789  0.18192106]\n",
      "[ 0.38043443 -0.50947766 -0.50247956 -0.09905015] [ 0.38043443 -0.50947766 -0.50247956 -0.09905015]\n",
      "[-0.43506113  0.55098606  0.53042541  0.16429063] [-0.43506113  0.55098606  0.53042541  0.16429063]\n",
      "[ 3.64408396 -4.58397238 -5.17500284  0.32705602] [ 3.64408396 -4.58397238 -5.17500284  0.32705602]\n",
      "Passed full solve check, dist 0.063\n"
     ]
    }
   ],
   "source": [
    "b_succ, angles_new, count = ik_jacobian.jacobian_follow_path(arm_geometry, angles_check, target, b_one_step=False)\n",
    "afk.set_angles_of_arm_geometry(arm_geometry, angles_new)\n",
    "dist = ik_gradient.distance_to_goal(arm_geometry, target)\n",
    "if not b_succ:\n",
    "    print(f\"Expected successful/improvement, got none\")\n",
    "elif not np.isclose(dist, 0.062, atol=0.01):\n",
    "    print(f\"Expected distance to be close to 0.063, got {dist}, count {count}\")\n",
    "else: \n",
    "    print(f\"Passed full solve check, dist {dist:0.2}\")"
   ]
  },
  {
   "cell_type": "code",
   "execution_count": 32,
   "metadata": {
    "tags": []
   },
   "outputs": [
    {
     "data": {
      "text/plain": [
       "Text(0.5, 1.0, 'After Jacobian descent count 32 dist 0.063')"
      ]
     },
     "execution_count": 32,
     "metadata": {},
     "output_type": "execute_result"
    },
    {
     "data": {
      "image/png": "[encoded data removed]",
      "text/plain": [
       "<Figure size 864x432 with 2 Axes>"
      ]
     },
     "metadata": {
      "needs_background": "light"
     },
     "output_type": "display_data"
    }
   ],
   "source": [
    "# Plot so you can see what it should look like\n",
    "fig, axs = plt.subplots(1, 2, figsize=(12, 6))\n",
    "\n",
    "for i, a in enumerate([angles_check, angles_new]):\n",
    "    # Actually get the matrices\n",
    "    afk.set_angles_of_arm_geometry(arm_geometry, a)\n",
    "    matrices = afk.get_matrices_all_links(arm_geometry)\n",
    "    afk.plot_complete_arm(axs[i], arm_geometry, matrices)\n",
    "\n",
    "    # Plot target too\n",
    "    axs[i].plot(target[0], target[1], '+r')\n",
    "\n",
    "axs[0].set_title(\"Before Jacobian descent\")\n",
    "axs[1].set_title(f\"After Jacobian descent count {count} dist {dist:0.2}\")"
   ]
  },
  {
   "cell_type": "code",
   "execution_count": null,
   "metadata": {
    "deletable": false,
    "editable": false
   },
   "outputs": [],
   "source": [
    "grader.check(\"jacobian_descent\")"
   ]
  },
  {
   "cell_type": "markdown",
   "metadata": {},
   "source": [
    "## Hours and collaborators\n",
    "Required for every assignment - fill out before you hand-in.\n",
    "\n",
    "Listing names and websites helps you to document who you worked with and what internet help you received in the case of any plagiarism issues. You should list names of anyone (in class or not) who has substantially helped you with an assignment - or anyone you have *helped*. You do not need to list TAs.\n",
    "\n",
    "Listing hours helps us track if the assignments are too long."
   ]
  },
  {
   "cell_type": "code",
   "execution_count": null,
   "metadata": {
    "tags": []
   },
   "outputs": [],
   "source": [
    "\n",
    "# List of names (creates a set)\n",
    "worked_with_names = {\"N/A\"}\n",
    "# List of URLS (creates a set)\n",
    "websites = {\"https://numpy.org/doc/stable/reference/generated/numpy.linalg.lstsq.html\"}\n",
    "# Approximate number of hours, including lab/in-class time\n",
    "hours = 3\n",
    "\n",
    "# for all row, column in all_indices_from_where\n",
    "#.   if this is the column for wrist torque \n",
    "#.      print(f\"Row: {r}, Time step: {c // n_time_steps} Successful y/n: {pick_data[r, -1] == 1}, value: {pick_data[r, c]}\")"
   ]
  },
  {
   "cell_type": "code",
   "execution_count": null,
   "metadata": {
    "deletable": false,
    "editable": false
   },
   "outputs": [],
   "source": [
    "grader.check(\"hours_collaborators\")"
   ]
  },
  {
   "cell_type": "code",
   "execution_count": null,
   "metadata": {},
   "outputs": [],
   "source": []
  },
  {
   "cell_type": "markdown",
   "metadata": {
    "deletable": false,
    "editable": false
   },
   "source": [
    "---\n",
    "\n",
    "To double-check your work, the cell below will rerun all of the autograder tests."
   ]
  },
  {
   "cell_type": "code",
   "execution_count": null,
   "metadata": {
    "deletable": false,
    "editable": false
   },
   "outputs": [],
   "source": [
    "grader.check_all()"
   ]
  },
  {
   "cell_type": "markdown",
   "metadata": {
    "deletable": false,
    "editable": false
   },
   "source": [
    "## Submission\n",
    "\n",
    "Make sure you have run all cells in your notebook in order before running the cell below, so that all images/graphs appear in the output. The cell below will generate a zip file for you to submit. **Please save before exporting!**\n",
    "\n",
    "Submit through gradescope, inverse kinematics"
   ]
  },
  {
   "cell_type": "code",
   "execution_count": null,
   "metadata": {
    "deletable": false,
    "editable": false
   },
   "outputs": [],
   "source": [
    "# Save your notebook first, then run this cell to export your submission.\n",
    "grader.export()"
   ]
  },
  {
   "cell_type": "markdown",
   "metadata": {},
   "source": [
    " "
   ]
  }
 ],
 "metadata": {
  "kernelspec": {
   "display_name": "Python 3.9.7 64-bit",
   "language": "python",
   "name": "python3"
  },
  "language_info": {
   "codemirror_mode": {
    "name": "ipython",
    "version": 3
   },
   "file_extension": ".py",
   "mimetype": "text/x-python",
   "name": "python",
   "nbconvert_exporter": "python",
   "pygments_lexer": "ipython3",
   "version": "3.9.7"
  },
  "otter": {
   "tests": {
    "gradient_calculation": {
     "name": "gradient_calculation",
     "points": 4,
     "suites": [
      {
       "cases": [
        {
         "code": ">>> assert(np.isclose(vec[0], 0.8535, atol=0.01) or not np.isclose(vec[1], 0.09019, atol=0.01))\n",
         "hidden": false,
         "locked": false
        },
        {
         "code": ">>> assert(np.isclose(dist_to_arm, 0.858, atol=0.01))\n",
         "hidden": false,
         "locked": false
        },
        {
         "code": ">>> assert(np.all(np.isclose(grad, exp_grad, atol=0.01)))\n",
         "hidden": false,
         "locked": false
        }
       ],
       "scored": true,
       "setup": "",
       "teardown": "",
       "type": "doctest"
      }
     ]
    },
    "gradient_descent": {
     "name": "gradient_descent",
     "points": 6,
     "suites": [
      {
       "cases": [
        {
         "code": ">>> from tests_ik_autograder import test_reach_target\n>>> assert(test_reach_target(ik_gradient.gradient_descent))\n",
         "hidden": false,
         "locked": false
        }
       ],
       "scored": true,
       "setup": "",
       "teardown": "",
       "type": "doctest"
      }
     ]
    },
    "hours_collaborators": {
     "name": "hours_collaborators",
     "points": 1,
     "suites": [
      {
       "cases": [
        {
         "code": ">>> assert(not \"not filled out\" in worked_with_names)\n",
         "hidden": false,
         "locked": false
        },
        {
         "code": ">>> assert(not \"not filled out\" in websites)\n",
         "hidden": false,
         "locked": false
        },
        {
         "code": ">>> assert(hours > 0)\n",
         "hidden": false,
         "locked": false
        }
       ],
       "scored": true,
       "setup": "",
       "teardown": "",
       "type": "doctest"
      }
     ]
    },
    "jacobian": {
     "name": "jacobian",
     "points": 3,
     "suites": [
      {
       "cases": [
        {
         "code": ">>> assert(np.all(np.isclose(jacob_numerical, exp_jacob, atol=0.01)) or np.all(np.isclose(jacob_matrix, exp_jacob, atol=0.01)))\n",
         "hidden": false,
         "locked": false
        }
       ],
       "scored": true,
       "setup": "",
       "teardown": "",
       "type": "doctest"
      }
     ]
    },
    "jacobian_descent": {
     "name": "jacobian_descent",
     "points": 4,
     "suites": [
      {
       "cases": [
        {
         "code": ">>> assert(test_reach_target(ik_jacobian.jacobian_follow_path))\n",
         "hidden": false,
         "locked": false
        }
       ],
       "scored": true,
       "setup": "",
       "teardown": "",
       "type": "doctest"
      }
     ]
    },
    "practice_jacobian": {
     "name": "practice_jacobian",
     "points": 1,
     "suites": [
      {
       "cases": [
        {
         "code": ">>> assert(np.isclose(ang, exp_ang, atol=0.01))\n",
         "hidden": false,
         "locked": false
        }
       ],
       "scored": true,
       "setup": "",
       "teardown": "",
       "type": "doctest"
      }
     ]
    },
    "solve_jacobian": {
     "name": "solve_jacobian",
     "points": 2,
     "suites": [
      {
       "cases": [
        {
         "code": ">>> assert(np.all(np.isclose(delta_angles, exp_delta_angles, atol=0.01)))\n",
         "hidden": false,
         "locked": false
        }
       ],
       "scored": true,
       "setup": "",
       "teardown": "",
       "type": "doctest"
      }
     ]
    }
   }
  },
  "vscode": {
   "interpreter": {
    "hash": "3a2a9cf4ab00a4dfb8ab541c52a98bb3a399ae9c1ff912de1725d8c349ee38a7"
   }
  }
 },
 "nbformat": 4,
 "nbformat_minor": 2
}
